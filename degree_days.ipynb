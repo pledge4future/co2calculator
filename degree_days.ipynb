{
 "cells": [
  {
   "cell_type": "code",
   "execution_count": 1,
   "metadata": {},
   "outputs": [],
   "source": [
    "import numpy as np\n",
    "import openrouteservice\n",
    "from openrouteservice.geocode import pelias_search\n",
    "import xarray as xr\n",
    "from datetime import datetime\n",
    "from datetime import time as dtime\n",
    "from datetime import date as ddate\n",
    "\n",
    "ORS_API_KEY = \"5b3ce3597851110001cf62485c01b629a61e4f57b5449ab3a0000ec5\"\n",
    "\n",
    "def get_temp_series(location = \"Bergheimer Straße 116, 69115 Heidelberg, Germany\"):\n",
    "    \"\"\"\n",
    "    Given a location returns an xarray dataset of hourly temperatures in Kelvin\n",
    "    INPUTS:\n",
    "        something\n",
    "    OUTPUTS:\n",
    "        ds (xarray dataset): has coordinates [longitude (float32), latitude (float32), time (datetime64)]\n",
    "        \n",
    "    TODO: specify time bounds, properly comment\n",
    "    \"\"\"\n",
    "    clnt = openrouteservice.Client(key=ORS_API_KEY)\n",
    "    call = pelias_search(clnt, location)\n",
    "    for feature in call[\"features\"]:\n",
    "        geom = feature[\"geometry\"][\"coordinates\"]\n",
    "\n",
    "    fn = \"temp_data.nc\"\n",
    "    ds = xr.open_dataset(fn)\n",
    "    #yearmonth = \"2021-10-31\"\n",
    "    #yearmonth = datetime.strptime(yearmonth, '%Y-%m-%d')\n",
    "    ds = ds.sel(latitude=round(geom[1])).sel(longitude=round(geom[0]))\n",
    "\n",
    "    # interpolate missing hours of the day (sometimes data only from 06h to 22h)\n",
    "    ds = ds.resample(time=\"1h\").interpolate(\"linear\")\n",
    "    return ds\n",
    "\n",
    "\n",
    "def mask_temp(data, Tref = 288.65):\n",
    "    \"\"\"\n",
    "    INPUTS:\n",
    "        data (xarray dataset): Must have datetimes in [\"time\"].values and temperatures in [\"t2m\"].values\n",
    "        Tref (float): Reference temperature, given in Kelvin. Default is 291.15 (18 Celcius).\n",
    "    OUTPUTS:\n",
    "        something\n",
    "    Note that for now I choose not to use heating start and stop times (ex. setting temp = Tref outside this range)\n",
    "    becuase it adds complications, ex. the building will maintain some of the heating even if it is off... I think\n",
    "    that turning the heating off will result in lower gas usage anyway... idk should talk about it\n",
    "    \"\"\"\n",
    "    pass\n",
    "\n",
    "    # hourly time series\n",
    "    # compute degree days\n",
    "\n",
    "def get_month_endpoints(date_str):\n",
    "    \"\"\"\n",
    "    Given a year-month string, return the endpoints required for the timeslice to select temperatures of a given month\n",
    "    INPUTS:\n",
    "        date_str (str): should be 'year-month', ex. '2020-02'\n",
    "    OUTPUTS:\n",
    "        start_str (str): string for first day of month, ex. '2020-02-01'\n",
    "        end_str (str): string for first day of next month at midnight, so as to include 11pm to midnight of \n",
    "                        last day, ex. '2020-03-01-00'\n",
    "    \"\"\"\n",
    "    start_year , start_month = date_str.split('-')\n",
    "    if int(start_month) < 12:\n",
    "        end_month = '{:02d}'.format(int(start_month)+1)\n",
    "        end_year = start_year\n",
    "    elif int(start_month) == 12:\n",
    "        end_month = '01'\n",
    "        end_year = str(int(start_year)+1)\n",
    "    else:\n",
    "        raise Exception('Error in get_month_endpoints: month can not be >12!')\n",
    "\n",
    "    start_str = start_year + '-' + start_month + '-01'\n",
    "    end_str = end_year + '-' + end_month + '-01-00'\n",
    "    return start_str, end_str\n",
    "\n",
    "def calc_degreedays(type, date_str, Tref=288.65):\n",
    "    \"\"\" Docstring TODO \"\"\"\n",
    "    if type not in ('heating','cooling'):\n",
    "        print(\"WARNING: degree days type not understood. Defaulting to type='heating'.\")\n",
    "        type = 'heating'\n",
    "    \n",
    "    ds = get_temp_series() \n",
    "    \n",
    "    month_ds = ds.sel(time=slice(*get_month_endpoints(date_str))) # this takes from midnight of first day to midnight of first day of following month\n",
    "    diff_time = month_ds['time'][-1] - month_ds['time'][0] # get time difference, saved as xarray with np.timedelta64 array in values\n",
    "\n",
    "    if type == 'heating':\n",
    "        month_ds['t2m'] = Tref - month_ds['t2m']\n",
    "    else: # type == cooling\n",
    "        month_ds['t2m'] = month_ds['t2m'] - Tref\n",
    "    month_ds = np.maximum(month_ds, 0)\n",
    "\n",
    "    # integrate\n",
    "    # note: integrate sets each hour as unit 1, must divide by total number of hours to obtain cumulative degree days\n",
    "    dd = month_ds.integrate('time',datetime_unit='h') /24 #/ np.timedelta64(diff_time.values,'h').astype(float)\n",
    "    #TODO: I believe the correct rescaling is 24, not total number of hours???\n",
    "    \n",
    "    return dd['t2m'].values\n",
    "\n",
    "def heating_func(Tmax, Tmin, Tavg, Tref=None):\n",
    "    ''' Doctring: TODO. Function from paper (reference)'''\n",
    "    if Tmax != Tmin: #TODO: make sure this assumption ok\n",
    "        assert ((Tmax > Tavg) and (Tavg > Tmin)), 'heating_func: Should have Tmax > Tavg > Tmin'\n",
    "    if Tref >= Tmax:\n",
    "        val = Tref - Tavg\n",
    "    elif (Tavg <= Tref): # implicitly includes (Tref < Tmax)\n",
    "            val = (Tref - Tmin)/2 - (Tmax - Tref)/4\n",
    "    elif (Tmin <= Tref): # implicitly includes (Tref < Tavg < Tmax)\n",
    "        val = (Tref - Tmin)/4\n",
    "    elif (Tref <= Tmin):\n",
    "        val = 0\n",
    "    else:\n",
    "        raise Exception('heating_func: something went wrong, should not get here')\n",
    "    return val\n",
    "\n",
    "def cooling_func(Tmax, Tmin, Tavg, Tref=295.15):\n",
    "    ''' Doctring: TODO. Function from paper (reference)'''\n",
    "    if Tmax != Tmin: #TODO: make sure this assumption ok\n",
    "        assert ((Tmax > Tavg) and (Tavg > Tmin)), 'cooling_func: Should have Tmax > Tavg > Tmin'\n",
    "    if Tref >= Tmax:\n",
    "        val = 0\n",
    "    elif (Tavg <= Tref): # implicitly includes (Tref < Tmax)\n",
    "        val = (Tmax - Tref)/4\n",
    "    elif (Tmin <= Tref): # implicitly includes (Tref < Tavg < Tmax)\n",
    "        val = (Tmax - Tref)/2 - (Tref - Tmin)/4\n",
    "    elif (Tref <= Tmin):\n",
    "        val = Tavg - Tref\n",
    "    else:\n",
    "        raise Exception('cooling_func: something went wrong, should not get here')\n",
    "    return val\n",
    "\n",
    "heating_func_vec = np.vectorize(heating_func)\n",
    "cooling_func_vec = np.vectorize(cooling_func)\n",
    "\n",
    "def calc_degreedays2(type, date_str, Tref=288.65):\n",
    "    # Tref = 288.65 for 15.5 C\n",
    "    # Tref = 291.15 for 18 C\n",
    "    # Tref = 295.15 for 22 C\n",
    "    # Uses the methodology from the paper 'European degree-day climatologies and trends for the period 1951 – 2011', \n",
    "    # J. Spinoni, J. Vogt, and P. Barbosa. INTERNATIONAL JOURNAL OF CLIMATOLOGY, 2014.\n",
    "\n",
    "    if type not in ('heating','cooling'):\n",
    "        print(\"WARNING: degree days type not understood. Defaulting to type='heating'.\")\n",
    "        type = 'heating'\n",
    "\n",
    "    ds = get_temp_series() \n",
    "    month_ds = ds.sel(time=slice(*get_month_endpoints(date_str))) # this takes from midnight of first day to midnight of first day of following month\n",
    "    max_temps = month_ds.resample(time='1D').max()\n",
    "    min_temps = month_ds.resample(time='1D').min()\n",
    "    mean_temps = (max_temps + min_temps) / 2    \n",
    "\n",
    "    if type == 'heating':\n",
    "        if Tref == None: Tref = 288.65 # (15.5 C)\n",
    "        dd = np.sum (xr.apply_ufunc( heating_func_vec, max_temps['t2m'], min_temps['t2m'], mean_temps['t2m'], Tref))\n",
    "\n",
    "    else: # type == cooling\n",
    "        if Tref == None: Tref = 295.15  # (22 C)\n",
    "        dd = np.sum (xr.apply_ufunc( cooling_func_vec, max_temps['t2m'], min_temps['t2m'], mean_temps['t2m'], Tref))\n",
    "    \n",
    "    return dd.values\n",
    "\n",
    "def calc_degreedays3(type, date_str, Tref=288.65):\n",
    "    # Tref = 288.65 for 15.5 C\n",
    "    # Tref = 291.15 for 18 C\n",
    "    # Tref = 295.15 for 22 C\n",
    "    # Uses the methodology from the paper 'European degree-day climatologies and trends for the period 1951 – 2011', \n",
    "    # J. Spinoni, J. Vogt, and P. Barbosa. INTERNATIONAL JOURNAL OF CLIMATOLOGY, 2014.\n",
    "\n",
    "    if type not in ('heating','cooling'):\n",
    "        print(\"WARNING: degree days type not understood. Defaulting to type='heating'.\")\n",
    "        type = 'heating'\n",
    "\n",
    "    ds = get_temp_series() \n",
    "    month_ds = ds.sel(time=slice(*get_month_endpoints(date_str))) # this takes from midnight of first day to midnight of first day of following month\n",
    "    max_temps = month_ds.resample(time='1D').max()['t2m'].values\n",
    "    min_temps = month_ds.resample(time='1D').min()['t2m'].values\n",
    "    mean_temps = (max_temps + min_temps) / 2    \n",
    "\n",
    "    if type == 'heating':\n",
    "        if Tref == None: Tref = 288.65 # (15.5 C)\n",
    "        dd = heating_func_vec(max_temps, min_temps, mean_temps, Tref)\n",
    "    else: # type == cooling\n",
    "        if Tref == None: Tref = 295.15  # (22 C)\n",
    "        dd = cooling_func_vec(max_temps, min_temps, mean_temps, Tref)\n",
    "\n",
    "    return np.sum(dd)\n",
    "\n",
    "\n",
    "    \n"
   ]
  },
  {
   "cell_type": "code",
   "execution_count": 2,
   "metadata": {},
   "outputs": [
    {
     "name": "stdout",
     "output_type": "stream",
     "text": [
      "74.51414988835609\n",
      "70.30045948028521\n",
      "70.30045948028521\n"
     ]
    }
   ],
   "source": [
    "ds = get_temp_series()\n",
    "#month_ds = ds.sel(time=slice(get_month_endpoints(date_str))) # this takes from midnight of first day to midnight of first day of following month\n",
    "#diff_time = month_ds['time'][-1] - month_ds['time'][0] # get time difference, saved as xarray with np.timedelta64 array in values\n",
    "#%timeit calc_degreedays('heating','2020-04',Tref=288.65)\n",
    "#%timeit calc_degreedays2('heating','2020-04',Tref=288.65)\n",
    "print(calc_degreedays('heating','2020-05',Tref=288.65))\n",
    "print(calc_degreedays2('heating','2020-05',Tref=288.65))\n",
    "print(calc_degreedays3('heating','2020-05',Tref=288.65))"
   ]
  },
  {
   "cell_type": "code",
   "execution_count": 3,
   "metadata": {},
   "outputs": [
    {
     "name": "stdout",
     "output_type": "stream",
     "text": [
      "619 ms ± 18.7 ms per loop (mean ± std. dev. of 7 runs, 1 loop each)\n",
      "676 ms ± 13.7 ms per loop (mean ± std. dev. of 7 runs, 1 loop each)\n",
      "673 ms ± 12.5 ms per loop (mean ± std. dev. of 7 runs, 1 loop each)\n"
     ]
    }
   ],
   "source": [
    "%timeit calc_degreedays('heating','2020-05',Tref=288.65)\n",
    "%timeit calc_degreedays2('heating','2020-05',Tref=288.65)\n",
    "%timeit calc_degreedays3('heating','2020-05',Tref=288.65)"
   ]
  },
  {
   "cell_type": "code",
   "execution_count": null,
   "metadata": {},
   "outputs": [],
   "source": [
    "\n"
   ]
  },
  {
   "cell_type": "markdown",
   "metadata": {},
   "source": [
    "TODO:\n",
    "- can we do calculation for each month simultaneously for a given total range?\n",
    "- look into only calculating degree days based on fixed hours of the day\n",
    "- look into alternative methods of calculating degree days, ex. soft cutoff below Tref or thresholding to a few degrees below Tref"
   ]
  },
  {
   "cell_type": "markdown",
   "metadata": {},
   "source": [
    "\n",
    "1. Make it work with arrays. If we want for example to select the degree days for an entire year, ideally we would run this calculation simultaneously in an array for each month instead of looping over everything.\n",
    "\n",
    "2. Select daily hourly ranges. As you say, you want to look into only calculating degree days based on fixed hours of the day. So we (a) have to think about the implications of this and how this affects the meaning of degree days, and (b) modify the code to only integrate between those ranges of the day\n",
    "\n",
    "3. Look into alternative methods of calculating degree days. For example, we can have a soft cutoff below the reference temperatre instead of just cutting it to 0 as we do now. Or also for example as Veit was saying, we can thresholding to a few degrees below the reference temperature so the degree days kick in once it is a few degrees colder than the reference temperature\n",
    "\n",
    "4. What do we set the reference temperature to? We should have a default value, but also it may make sense to set it to thermostat settings? HOWEVER, the thermostat setting is taken into account into the heating consumption, whether it is weather corrected or not. Should the degree days weather correction not be independent of thermostat setting? Worth doing research on.\n",
    "\n",
    "5. As in paper (put ref), we should set October to March as heating, and April to September as cooling. We only get monthly values still"
   ]
  },
  {
   "cell_type": "markdown",
   "metadata": {},
   "source": [
    "Thoughts:\n",
    "\n",
    "1. "
   ]
  },
  {
   "cell_type": "code",
   "execution_count": null,
   "metadata": {},
   "outputs": [],
   "source": [
    "\n",
    "    "
   ]
  },
  {
   "cell_type": "code",
   "execution_count": null,
   "metadata": {},
   "outputs": [],
   "source": [
    "\n",
    "    "
   ]
  },
  {
   "cell_type": "code",
   "execution_count": null,
   "metadata": {},
   "outputs": [],
   "source": [
    "\n"
   ]
  },
  {
   "cell_type": "code",
   "execution_count": null,
   "metadata": {},
   "outputs": [],
   "source": []
  },
  {
   "cell_type": "code",
   "execution_count": null,
   "metadata": {},
   "outputs": [],
   "source": []
  }
 ],
 "metadata": {
  "kernelspec": {
   "display_name": "Python 3.10.4 ('p4f')",
   "language": "python",
   "name": "python3"
  },
  "language_info": {
   "codemirror_mode": {
    "name": "ipython",
    "version": 3
   },
   "file_extension": ".py",
   "mimetype": "text/x-python",
   "name": "python",
   "nbconvert_exporter": "python",
   "pygments_lexer": "ipython3",
   "version": "3.10.4"
  },
  "orig_nbformat": 4,
  "vscode": {
   "interpreter": {
    "hash": "29f0a3c13a1614cce381717aa2c01aec0bba2c328f94aa47cae3043bb475f233"
   }
  }
 },
 "nbformat": 4,
 "nbformat_minor": 2
}
