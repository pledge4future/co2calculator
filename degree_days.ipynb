{
 "cells": [
  {
   "cell_type": "code",
   "execution_count": 120,
   "metadata": {},
   "outputs": [],
   "source": [
    "import numpy as np\n",
    "import openrouteservice\n",
    "from openrouteservice.geocode import pelias_search\n",
    "import xarray as xr\n",
    "from datetime import datetime\n",
    "from datetime import time as dtime\n",
    "from datetime import date as ddate\n",
    "\n",
    "ORS_API_KEY = \"5b3ce3597851110001cf62485c01b629a61e4f57b5449ab3a0000ec5\"\n",
    "\n",
    "def get_temp_series(location = \"Bergheimer Straße 116, 69115 Heidelberg, Germany\"):\n",
    "    \"\"\"\n",
    "    Given a location returns an xarray dataset of hourly temperatures in Kelvin\n",
    "    INPUTS:\n",
    "        something\n",
    "    OUTPUTS:\n",
    "        ds (xarray dataset): has coordinates [longitude (float32), latitude (float32), time (datetime64)]\n",
    "        \n",
    "    TODO: specify time bounds, properly comment\n",
    "    \"\"\"\n",
    "    clnt = openrouteservice.Client(key=ORS_API_KEY)\n",
    "    call = pelias_search(clnt, location)\n",
    "    for feature in call[\"features\"]:\n",
    "        geom = feature[\"geometry\"][\"coordinates\"]\n",
    "\n",
    "    fn = \"temp_data.nc\"\n",
    "    ds = xr.open_dataset(fn)\n",
    "    #yearmonth = \"2021-10-31\"\n",
    "    #yearmonth = datetime.strptime(yearmonth, '%Y-%m-%d')\n",
    "    ds = ds.sel(latitude=round(geom[1])).sel(longitude=round(geom[0]))\n",
    "\n",
    "    # interpolate missing hours of the day (sometimes data only from 06h to 22h)\n",
    "    ds = ds.resample(time=\"1h\").interpolate(\"linear\")\n",
    "    return ds\n",
    "\n",
    "\n",
    "def mask_temp(data, Tref = 291.15):\n",
    "    \"\"\"\n",
    "    INPUTS:\n",
    "        data (xarray dataset): Must have datetimes in [\"time\"].values and temperatures in [\"t2m\"].values\n",
    "        Tref (float): Reference temperature, given in Kelvin. Default is 291.15 (18 Celcius).\n",
    "    OUTPUTS:\n",
    "        something\n",
    "    Note that for now I choose not to use heating start and stop times (ex. setting temp = Tref outside this range)\n",
    "    becuase it adds complications, ex. the building will maintain some of the heating even if it is off... I think\n",
    "    that turning the heating off will result in lower gas usage anyway... idk should talk about it\n",
    "    \"\"\"\n",
    "    pass\n",
    "\n",
    "    # hourly time series\n",
    "    # compute degree days\n",
    "\n",
    "def calc_degreedays(type, Tref=291.15):\n",
    "    \"\"\" Docstring TODO \"\"\"\n",
    "    if type not in ('heating','cooling'):\n",
    "        print(\"WARNING: degree days type not understood. Defaulting to type='heating'.\")\n",
    "        type = 'heating'\n",
    "    \n",
    "    ds = get_temp_series() \n",
    "    \n",
    "    feb = ds.sel(time=slice('2020-02-01','2020-02-03')) # this takes from midnight of first day up until 11pm on the last day (note last hour missing)\n",
    "    diff_time = feb['time'][-1] - feb['time'][0] # get time difference, saved as xarray with np.timedelta64 array in values\n",
    "\n",
    "    if type == 'heating':\n",
    "        feb['t2m'] = Tref - feb['t2m']\n",
    "    else: # type == cooling\n",
    "        feb['t2m'] = feb['t2m'] - Tref\n",
    "    feb = np.maximum(feb, 0)\n",
    "\n",
    "    # integrate\n",
    "    # note: integrate sets each hour as unit 1, must divide by total number of hours to obtain cumulative degree days\n",
    "    dd = feb.integrate('time',datetime_unit='h') / np.timedelta64(diff_time.values,'h').astype(float)\n",
    "    \n",
    "    return dd['t2m'].values"
   ]
  },
  {
   "cell_type": "code",
   "execution_count": 121,
   "metadata": {},
   "outputs": [
    {
     "data": {
      "text/plain": [
       "array(7.69409022)"
      ]
     },
     "execution_count": 121,
     "metadata": {},
     "output_type": "execute_result"
    }
   ],
   "source": [
    "ds = get_temp_series() \n",
    "calc_degreedays('heating')"
   ]
  },
  {
   "cell_type": "markdown",
   "metadata": {},
   "source": [
    "TODO:\n",
    "- be able to select date range (select months individually? Must be careful of leap years for february)\n",
    "- can we do calculation for each month simultaneously for a given total range?\n",
    "- look into only calculating degree days based on fixed hours of the day\n",
    "- look into alternative methods of calculating degree days, ex. soft cutoff below Tref or thresholding to a few degrees below Tref"
   ]
  },
  {
   "cell_type": "code",
   "execution_count": null,
   "metadata": {},
   "outputs": [],
   "source": []
  },
  {
   "cell_type": "code",
   "execution_count": null,
   "metadata": {},
   "outputs": [],
   "source": [
    "\n",
    "    "
   ]
  },
  {
   "cell_type": "code",
   "execution_count": null,
   "metadata": {},
   "outputs": [],
   "source": []
  }
 ],
 "metadata": {
  "interpreter": {
   "hash": "29f0a3c13a1614cce381717aa2c01aec0bba2c328f94aa47cae3043bb475f233"
  },
  "kernelspec": {
   "display_name": "Python 3.10.4 ('p4f')",
   "language": "python",
   "name": "python3"
  },
  "language_info": {
   "codemirror_mode": {
    "name": "ipython",
    "version": 3
   },
   "file_extension": ".py",
   "mimetype": "text/x-python",
   "name": "python",
   "nbconvert_exporter": "python",
   "pygments_lexer": "ipython3",
   "version": "3.10.4"
  },
  "orig_nbformat": 4
 },
 "nbformat": 4,
 "nbformat_minor": 2
}
