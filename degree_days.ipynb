{
 "cells": [
  {
   "cell_type": "code",
   "execution_count": 36,
   "metadata": {},
   "outputs": [],
   "source": [
    "import numpy as np\n",
    "import openrouteservice\n",
    "from openrouteservice.geocode import pelias_search\n",
    "import xarray as xr\n",
    "from datetime import datetime\n",
    "from datetime import time as dtime\n",
    "from datetime import date as ddate\n",
    "\n",
    "ORS_API_KEY = \"5b3ce3597851110001cf62485c01b629a61e4f57b5449ab3a0000ec5\"\n",
    "\n",
    "def get_temp_series(location = \"Bergheimer Straße 116, 69115 Heidelberg, Germany\"):\n",
    "    \"\"\"\n",
    "    Given a location returns an xarray dataset of hourly temperatures in Kelvin\n",
    "    INPUTS:\n",
    "        something\n",
    "    OUTPUTS:\n",
    "        ds (xarray dataset): has coordinates [longitude (float32), latitude (float32), time (datetime64)]\n",
    "        \n",
    "    TODO: specify time bounds, properly comment\n",
    "    \"\"\"\n",
    "    clnt = openrouteservice.Client(key=ORS_API_KEY)\n",
    "    call = pelias_search(clnt, location)\n",
    "    for feature in call[\"features\"]:\n",
    "        geom = feature[\"geometry\"][\"coordinates\"]\n",
    "\n",
    "    fn = \"temp_data.nc\"\n",
    "    ds = xr.open_dataset(fn)\n",
    "    #yearmonth = \"2021-10-31\"\n",
    "    #yearmonth = datetime.strptime(yearmonth, '%Y-%m-%d')\n",
    "    ds = ds.sel(latitude=round(geom[1])).sel(longitude=round(geom[0]))\n",
    "\n",
    "    # interpolate missing hours of the day (sometimes data only from 06h to 22h)\n",
    "    ds = ds.resample(time=\"1h\").interpolate(\"linear\")\n",
    "    return ds\n",
    "\n",
    "\n",
    "def mask_temp(data, Tref = 291.15):\n",
    "    \"\"\"\n",
    "    INPUTS:\n",
    "        data (xarray dataset): Must have datetimes in [\"time\"].values and temperatures in [\"t2m\"].values\n",
    "        Tref (float): Reference temperature, given in Kelvin. Default is 291.15 (18 Celcius).\n",
    "    OUTPUTS:\n",
    "        something\n",
    "    Note that for now I choose not to use heating start and stop times (ex. setting temp = Tref outside this range)\n",
    "    becuase it adds complications, ex. the building will maintain some of the heating even if it is off... I think\n",
    "    that turning the heating off will result in lower gas usage anyway... idk should talk about it\n",
    "    \"\"\"\n",
    "    pass\n",
    "\n",
    "    # hourly time series\n",
    "    # compute degree days\n",
    "\n",
    "def get_month_endpoints(date_str):\n",
    "    \"\"\"\n",
    "    Given a year-month string, return the endpoints required for the timeslice to select temperatures of a given month\n",
    "    INPUTS:\n",
    "        date_str (str): should be 'year-month', ex. '2020-02'\n",
    "    OUTPUTS:\n",
    "        start_str (str): string for first day of month, ex. '2020-02-01'\n",
    "        end_str (str): string for first day of next month at midnight, so as to include 11pm to midnight of \n",
    "                        last day, ex. '2020-03-01-00'\n",
    "    \"\"\"\n",
    "    start_year , start_month = date_str.split('-')\n",
    "    if int(start_month) < 12:\n",
    "        end_month = '{:02d}'.format(int(start_month)+1)\n",
    "        end_year = start_year\n",
    "    elif int(start_month) == 12:\n",
    "        end_month = '01'\n",
    "        end_year = str(int(start_year)+1)\n",
    "    else:\n",
    "        raise Exception('Error in get_month_endpoints: month can not be >12!')\n",
    "\n",
    "    start_str = start_year + '-' + start_month + '-01'\n",
    "    end_str = end_year + '-' + end_month + '-01-00'\n",
    "    return start_str, end_str\n",
    "\n",
    "def calc_degreedays(type, date_str, Tref=291.15):\n",
    "    \"\"\" Docstring TODO \"\"\"\n",
    "    if type not in ('heating','cooling'):\n",
    "        print(\"WARNING: degree days type not understood. Defaulting to type='heating'.\")\n",
    "        type = 'heating'\n",
    "    \n",
    "    ds = get_temp_series() \n",
    "    \n",
    "    month_ds = ds.sel(time=slice(*get_month_endpoints(date_str))) # this takes from midnight of first day to midnight of first day of following month\n",
    "    diff_time = month_ds['time'][-1] - month_ds['time'][0] # get time difference, saved as xarray with np.timedelta64 array in values\n",
    "\n",
    "    if type == 'heating':\n",
    "        month_ds['t2m'] = Tref - month_ds['t2m']\n",
    "    else: # type == cooling\n",
    "        month_ds['t2m'] = month_ds['t2m'] - Tref\n",
    "    month_ds = np.maximum(month_ds, 0)\n",
    "\n",
    "    # integrate\n",
    "    # note: integrate sets each hour as unit 1, must divide by total number of hours to obtain cumulative degree days\n",
    "    dd = month_ds.integrate('time',datetime_unit='h') / np.timedelta64(diff_time.values,'h').astype(float)\n",
    "    \n",
    "    return dd['t2m'].values"
   ]
  },
  {
   "cell_type": "code",
   "execution_count": 37,
   "metadata": {},
   "outputs": [
    {
     "data": {
      "text/plain": [
       "array(12.00697915)"
      ]
     },
     "execution_count": 37,
     "metadata": {},
     "output_type": "execute_result"
    }
   ],
   "source": [
    "ds = get_temp_series()\n",
    "#month_ds = ds.sel(time=slice(get_month_endpoints(date_str))) # this takes from midnight of first day to midnight of first day of following month\n",
    "#diff_time = month_ds['time'][-1] - month_ds['time'][0] # get time difference, saved as xarray with np.timedelta64 array in values\n",
    "calc_degreedays('heating','2020-02')"
   ]
  },
  {
   "cell_type": "code",
   "execution_count": null,
   "metadata": {},
   "outputs": [],
   "source": []
  },
  {
   "cell_type": "code",
   "execution_count": null,
   "metadata": {},
   "outputs": [],
   "source": []
  },
  {
   "cell_type": "markdown",
   "metadata": {},
   "source": [
    "TODO:\n",
    "- can we do calculation for each month simultaneously for a given total range?\n",
    "- look into only calculating degree days based on fixed hours of the day\n",
    "- look into alternative methods of calculating degree days, ex. soft cutoff below Tref or thresholding to a few degrees below Tref"
   ]
  },
  {
   "cell_type": "markdown",
   "metadata": {},
   "source": [
    "\n",
    "1. Make it work with arrays. If we want for example to select the degree days for an entire year, ideally we would run this calculation simultaneously in an array for each month instead of looping over everything.\n",
    "\n",
    "2. Select daily hourly ranges. As you say, you want to look into only calculating degree days based on fixed hours of the day. So we (a) have to think about the implications of this and how this affects the meaning of degree days, and (b) modify the code to only integrate between those ranges of the day\n",
    "\n",
    "3. Look into alternative methods of calculating degree days. For example, we can have a soft cutoff below the reference temperatre instead of just cutting it to 0 as we do now. Or also for example as Veit was saying, we can thresholding to a few degrees below the reference temperature so the degree days kick in once it is a few degrees colder than the reference temperature"
   ]
  },
  {
   "cell_type": "markdown",
   "metadata": {},
   "source": [
    "Thoughts:\n",
    "\n",
    "1. "
   ]
  },
  {
   "cell_type": "code",
   "execution_count": null,
   "metadata": {},
   "outputs": [],
   "source": []
  },
  {
   "cell_type": "code",
   "execution_count": null,
   "metadata": {},
   "outputs": [],
   "source": [
    "\n",
    "    "
   ]
  },
  {
   "cell_type": "code",
   "execution_count": null,
   "metadata": {},
   "outputs": [],
   "source": []
  }
 ],
 "metadata": {
  "kernelspec": {
   "display_name": "Python 3.10.4 ('p4f')",
   "language": "python",
   "name": "python3"
  },
  "language_info": {
   "codemirror_mode": {
    "name": "ipython",
    "version": 3
   },
   "file_extension": ".py",
   "mimetype": "text/x-python",
   "name": "python",
   "nbconvert_exporter": "python",
   "pygments_lexer": "ipython3",
   "version": "3.10.4"
  },
  "orig_nbformat": 4,
  "vscode": {
   "interpreter": {
    "hash": "29f0a3c13a1614cce381717aa2c01aec0bba2c328f94aa47cae3043bb475f233"
   }
  }
 },
 "nbformat": 4,
 "nbformat_minor": 2
}
