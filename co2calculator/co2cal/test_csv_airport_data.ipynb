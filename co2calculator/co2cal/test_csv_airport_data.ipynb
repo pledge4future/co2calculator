{
 "cells": [
  {
   "cell_type": "markdown",
   "id": "9be904ee",
   "metadata": {},
   "source": [
    "## Test CSV Data"
   ]
  },
  {
   "cell_type": "code",
   "execution_count": 2,
   "id": "8ac2c793",
   "metadata": {},
   "outputs": [
    {
     "name": "stderr",
     "output_type": "stream",
     "text": [
      "/Users/milenaschnitzler/anaconda3/envs/co2calculator/lib/python3.11/site-packages/pandas/core/arrays/masked.py:60: UserWarning: Pandas requires version '1.3.6' or newer of 'bottleneck' (version '1.3.5' currently installed).\n",
      "  from pandas.core import (\n"
     ]
    }
   ],
   "source": [
    "import pandas as pd"
   ]
  },
  {
   "cell_type": "code",
   "execution_count": 6,
   "id": "58d8874b",
   "metadata": {},
   "outputs": [
    {
     "ename": "NameError",
     "evalue": "name 'filteres_airports' is not defined",
     "output_type": "error",
     "traceback": [
      "\u001b[0;31m---------------------------------------------------------------------------\u001b[0m",
      "\u001b[0;31mNameError\u001b[0m                                 Traceback (most recent call last)",
      "Cell \u001b[0;32mIn[6], line 7\u001b[0m\n\u001b[1;32m      4\u001b[0m \u001b[38;5;66;03m# Nur Zeilen behalten, bei denen 'iata_code' nicht NaN ist\u001b[39;00m\n\u001b[1;32m      5\u001b[0m filtered_airports \u001b[38;5;241m=\u001b[39m airports\u001b[38;5;241m.\u001b[39mdropna(subset\u001b[38;5;241m=\u001b[39m[\u001b[38;5;124m\"\u001b[39m\u001b[38;5;124miata_code\u001b[39m\u001b[38;5;124m\"\u001b[39m])\n\u001b[0;32m----> 7\u001b[0m filtered_airports[filteres_airports[\u001b[38;5;124m'\u001b[39m\u001b[38;5;124miata_code\u001b[39m\u001b[38;5;124m'\u001b[39m] \u001b[38;5;241m==\u001b[39m \u001b[38;5;124m'\u001b[39m\u001b[38;5;124mFRA\u001b[39m\u001b[38;5;124m'\u001b[39m]\n",
      "\u001b[0;31mNameError\u001b[0m: name 'filteres_airports' is not defined"
     ]
    }
   ],
   "source": [
    "airports = pd.read_csv(\n",
    "    \"https://davidmegginson.github.io/ourairports-data/airports.csv\"\n",
    ")\n",
    "# Nur Zeilen behalten, bei denen 'iata_code' nicht NaN ist\n",
    "filtered_airports = airports.dropna(subset=[\"iata_code\"])\n"
   ]
  },
  {
   "cell_type": "code",
   "execution_count": 8,
   "id": "e75a0ceb",
   "metadata": {},
   "outputs": [
    {
     "data": {
      "text/html": [
       "<div>\n",
       "<style scoped>\n",
       "    .dataframe tbody tr th:only-of-type {\n",
       "        vertical-align: middle;\n",
       "    }\n",
       "\n",
       "    .dataframe tbody tr th {\n",
       "        vertical-align: top;\n",
       "    }\n",
       "\n",
       "    .dataframe thead th {\n",
       "        text-align: right;\n",
       "    }\n",
       "</style>\n",
       "<table border=\"1\" class=\"dataframe\">\n",
       "  <thead>\n",
       "    <tr style=\"text-align: right;\">\n",
       "      <th></th>\n",
       "      <th>id</th>\n",
       "      <th>ident</th>\n",
       "      <th>type</th>\n",
       "      <th>name</th>\n",
       "      <th>latitude_deg</th>\n",
       "      <th>longitude_deg</th>\n",
       "      <th>elevation_ft</th>\n",
       "      <th>continent</th>\n",
       "      <th>iso_country</th>\n",
       "      <th>iso_region</th>\n",
       "      <th>municipality</th>\n",
       "      <th>scheduled_service</th>\n",
       "      <th>gps_code</th>\n",
       "      <th>iata_code</th>\n",
       "      <th>local_code</th>\n",
       "      <th>home_link</th>\n",
       "      <th>wikipedia_link</th>\n",
       "      <th>keywords</th>\n",
       "    </tr>\n",
       "  </thead>\n",
       "  <tbody>\n",
       "    <tr>\n",
       "      <th>22743</th>\n",
       "      <td>2222</td>\n",
       "      <td>EDDS</td>\n",
       "      <td>large_airport</td>\n",
       "      <td>Stuttgart Airport</td>\n",
       "      <td>48.689899</td>\n",
       "      <td>9.22196</td>\n",
       "      <td>1276.0</td>\n",
       "      <td>EU</td>\n",
       "      <td>DE</td>\n",
       "      <td>DE-BW</td>\n",
       "      <td>Stuttgart</td>\n",
       "      <td>yes</td>\n",
       "      <td>EDDS</td>\n",
       "      <td>STR</td>\n",
       "      <td>NaN</td>\n",
       "      <td>http://www.flughafen-stuttgart.de/</td>\n",
       "      <td>https://en.wikipedia.org/wiki/Stuttgart_Airport</td>\n",
       "      <td>NaN</td>\n",
       "    </tr>\n",
       "  </tbody>\n",
       "</table>\n",
       "</div>"
      ],
      "text/plain": [
       "         id ident           type               name  latitude_deg  \\\n",
       "22743  2222  EDDS  large_airport  Stuttgart Airport     48.689899   \n",
       "\n",
       "       longitude_deg  elevation_ft continent iso_country iso_region  \\\n",
       "22743        9.22196        1276.0        EU          DE      DE-BW   \n",
       "\n",
       "      municipality scheduled_service gps_code iata_code local_code  \\\n",
       "22743    Stuttgart               yes     EDDS       STR        NaN   \n",
       "\n",
       "                                home_link  \\\n",
       "22743  http://www.flughafen-stuttgart.de/   \n",
       "\n",
       "                                        wikipedia_link keywords  \n",
       "22743  https://en.wikipedia.org/wiki/Stuttgart_Airport      NaN  "
      ]
     },
     "execution_count": 8,
     "metadata": {},
     "output_type": "execute_result"
    }
   ],
   "source": [
    "filtered_airports[filtered_airports['iata_code'] == 'STR']"
   ]
  },
  {
   "cell_type": "code",
   "execution_count": 9,
   "id": "ccb6a8f3",
   "metadata": {},
   "outputs": [
    {
     "name": "stdout",
     "output_type": "stream",
     "text": [
      "['UTK' 'OCA' 'CUX' ... 'SHE' 'YNJ' 'YKH']\n"
     ]
    }
   ],
   "source": [
    "print(filtered_airports[\"iata_code\"].values)"
   ]
  },
  {
   "cell_type": "code",
   "execution_count": 11,
   "id": "2808d1d1",
   "metadata": {},
   "outputs": [
    {
     "name": "stdout",
     "output_type": "stream",
     "text": [
      "[['UTK']\n",
      " ['OCA']\n",
      " ['CUX']\n",
      " ...\n",
      " ['SHE']\n",
      " ['YNJ']\n",
      " ['YKH']]\n"
     ]
    }
   ],
   "source": [
    "print(filtered_airports[[\"iata_code\"]].values)"
   ]
  },
  {
   "cell_type": "code",
   "execution_count": 5,
   "id": "47dfbdba",
   "metadata": {},
   "outputs": [],
   "source": [
    "train_stations = pd.read_csv(\n",
    "    \"https://raw.githubusercontent.com/trainline-eu/stations/master/stations.csv\"\n",
    ")"
   ]
  },
  {
   "cell_type": "code",
   "execution_count": 8,
   "id": "f0555f8f",
   "metadata": {},
   "outputs": [
    {
     "data": {
      "text/html": [
       "<div>\n",
       "<style scoped>\n",
       "    .dataframe tbody tr th:only-of-type {\n",
       "        vertical-align: middle;\n",
       "    }\n",
       "\n",
       "    .dataframe tbody tr th {\n",
       "        vertical-align: top;\n",
       "    }\n",
       "\n",
       "    .dataframe thead th {\n",
       "        text-align: right;\n",
       "    }\n",
       "</style>\n",
       "<table border=\"1\" class=\"dataframe\">\n",
       "  <thead>\n",
       "    <tr style=\"text-align: right;\">\n",
       "      <th></th>\n",
       "      <th>id;name;slug;uic;uic8_sncf;latitude;longitude;parent_station_id;country;time_zone;is_city;is_main_station;is_airport;is_suggestable;country_hint;main_station_hint;sncf_id;sncf_tvs_id;sncf_is_enabled;entur_id;entur_is_enabled;db_id;db_is_enabled;busbud_id;busbud_is_enabled;distribusion_id;distribusion_is_enabled;flixbus_id;flixbus_is_enabled;cff_id;cff_is_enabled;leoexpress_id;leoexpress_is_enabled;obb_id;obb_is_enabled;ouigo_id;ouigo_is_enabled;trenitalia_id;trenitalia_is_enabled;trenitalia_rtvt_id;trenord_id;ntv_rtiv_id;ntv_id;ntv_is_enabled;hkx_id;hkx_is_enabled;renfe_id;renfe_is_enabled;atoc_id;atoc_is_enabled;benerail_id;benerail_is_enabled;westbahn_id;westbahn_is_enabled;sncf_self_service_machine;same_as;info:de;info:en;info:es;info:fr;info:it;info:nb;info:nl;info:cs;info:da;info:hu;info:ja;info:ko;info:pl;info:pt;info:ru;info:sv;info:tr;info:zh;normalised_code;iata_airport_code</th>\n",
       "    </tr>\n",
       "  </thead>\n",
       "  <tbody>\n",
       "    <tr>\n",
       "      <th>0</th>\n",
       "      <td>1;Château-Arnoux – St-Auban;chateau-arnoux-st-...</td>\n",
       "    </tr>\n",
       "    <tr>\n",
       "      <th>1</th>\n",
       "      <td>2;Château-Arnoux – St-Auban;chateau-arnoux-st-...</td>\n",
       "    </tr>\n",
       "    <tr>\n",
       "      <th>2</th>\n",
       "      <td>3;Château-Arnoux Mairie;chateau-arnoux-mairie;...</td>\n",
       "    </tr>\n",
       "    <tr>\n",
       "      <th>3</th>\n",
       "      <td>4;Digne-les-Bains;digne-les-bains;;;44.350000;...</td>\n",
       "    </tr>\n",
       "    <tr>\n",
       "      <th>4</th>\n",
       "      <td>6;Digne-les-Bains;digne-les-bains;8775149;8775...</td>\n",
       "    </tr>\n",
       "    <tr>\n",
       "      <th>...</th>\n",
       "      <td>...</td>\n",
       "    </tr>\n",
       "    <tr>\n",
       "      <th>70514</th>\n",
       "      <td>74670;Minihy-Treguier;minihy-treguier;;;48.779...</td>\n",
       "    </tr>\n",
       "    <tr>\n",
       "      <th>70515</th>\n",
       "      <td>74671;Vieux-Boucau-les-Bains;vieux-boucau-les-...</td>\n",
       "    </tr>\n",
       "    <tr>\n",
       "      <th>70516</th>\n",
       "      <td>74672;Lucca Via Gaetano Luporini;lucca-via-gae...</td>\n",
       "    </tr>\n",
       "    <tr>\n",
       "      <th>70517</th>\n",
       "      <td>74673;Bratislava-Petrzalka;bratislava-petrzalk...</td>\n",
       "    </tr>\n",
       "    <tr>\n",
       "      <th>70518</th>\n",
       "      <td>74674;Palermo Libertà;palermo-liberta;;;38.143...</td>\n",
       "    </tr>\n",
       "  </tbody>\n",
       "</table>\n",
       "<p>70519 rows × 1 columns</p>\n",
       "</div>"
      ],
      "text/plain": [
       "      id;name;slug;uic;uic8_sncf;latitude;longitude;parent_station_id;country;time_zone;is_city;is_main_station;is_airport;is_suggestable;country_hint;main_station_hint;sncf_id;sncf_tvs_id;sncf_is_enabled;entur_id;entur_is_enabled;db_id;db_is_enabled;busbud_id;busbud_is_enabled;distribusion_id;distribusion_is_enabled;flixbus_id;flixbus_is_enabled;cff_id;cff_is_enabled;leoexpress_id;leoexpress_is_enabled;obb_id;obb_is_enabled;ouigo_id;ouigo_is_enabled;trenitalia_id;trenitalia_is_enabled;trenitalia_rtvt_id;trenord_id;ntv_rtiv_id;ntv_id;ntv_is_enabled;hkx_id;hkx_is_enabled;renfe_id;renfe_is_enabled;atoc_id;atoc_is_enabled;benerail_id;benerail_is_enabled;westbahn_id;westbahn_is_enabled;sncf_self_service_machine;same_as;info:de;info:en;info:es;info:fr;info:it;info:nb;info:nl;info:cs;info:da;info:hu;info:ja;info:ko;info:pl;info:pt;info:ru;info:sv;info:tr;info:zh;normalised_code;iata_airport_code\n",
       "0      1;Château-Arnoux – St-Auban;chateau-arnoux-st-...                                                                                                                                                                                                                                                                                                                                                                                                                                                                                                                                                                                                                                                                                                                                                                                                                                                                              \n",
       "1      2;Château-Arnoux – St-Auban;chateau-arnoux-st-...                                                                                                                                                                                                                                                                                                                                                                                                                                                                                                                                                                                                                                                                                                                                                                                                                                                                              \n",
       "2      3;Château-Arnoux Mairie;chateau-arnoux-mairie;...                                                                                                                                                                                                                                                                                                                                                                                                                                                                                                                                                                                                                                                                                                                                                                                                                                                                              \n",
       "3      4;Digne-les-Bains;digne-les-bains;;;44.350000;...                                                                                                                                                                                                                                                                                                                                                                                                                                                                                                                                                                                                                                                                                                                                                                                                                                                                              \n",
       "4      6;Digne-les-Bains;digne-les-bains;8775149;8775...                                                                                                                                                                                                                                                                                                                                                                                                                                                                                                                                                                                                                                                                                                                                                                                                                                                                              \n",
       "...                                                  ...                                                                                                                                                                                                                                                                                                                                                                                                                                                                                                                                                                                                                                                                                                                                                                                                                                                                              \n",
       "70514  74670;Minihy-Treguier;minihy-treguier;;;48.779...                                                                                                                                                                                                                                                                                                                                                                                                                                                                                                                                                                                                                                                                                                                                                                                                                                                                              \n",
       "70515  74671;Vieux-Boucau-les-Bains;vieux-boucau-les-...                                                                                                                                                                                                                                                                                                                                                                                                                                                                                                                                                                                                                                                                                                                                                                                                                                                                              \n",
       "70516  74672;Lucca Via Gaetano Luporini;lucca-via-gae...                                                                                                                                                                                                                                                                                                                                                                                                                                                                                                                                                                                                                                                                                                                                                                                                                                                                              \n",
       "70517  74673;Bratislava-Petrzalka;bratislava-petrzalk...                                                                                                                                                                                                                                                                                                                                                                                                                                                                                                                                                                                                                                                                                                                                                                                                                                                                              \n",
       "70518  74674;Palermo Libertà;palermo-liberta;;;38.143...                                                                                                                                                                                                                                                                                                                                                                                                                                                                                                                                                                                                                                                                                                                                                                                                                                                                              \n",
       "\n",
       "[70519 rows x 1 columns]"
      ]
     },
     "execution_count": 8,
     "metadata": {},
     "output_type": "execute_result"
    }
   ],
   "source": [
    "train_stations"
   ]
  },
  {
   "cell_type": "code",
   "execution_count": null,
   "id": "a07fd056",
   "metadata": {},
   "outputs": [],
   "source": []
  }
 ],
 "metadata": {
  "kernelspec": {
   "display_name": "Python 3 (ipykernel)",
   "language": "python",
   "name": "python3"
  },
  "language_info": {
   "codemirror_mode": {
    "name": "ipython",
    "version": 3
   },
   "file_extension": ".py",
   "mimetype": "text/x-python",
   "name": "python",
   "nbconvert_exporter": "python",
   "pygments_lexer": "ipython3",
   "version": "3.11.5"
  }
 },
 "nbformat": 4,
 "nbformat_minor": 5
}
