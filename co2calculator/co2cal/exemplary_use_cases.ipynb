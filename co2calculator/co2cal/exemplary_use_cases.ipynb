{
 "cells": [
  {
   "cell_type": "markdown",
   "id": "fd406816",
   "metadata": {},
   "source": [
    "# Exemplary use cases for the Co2calculator\n",
    "In this Jupyter notebook you will find some helpful examples of how to use the co2calculator."
   ]
  },
  {
   "cell_type": "code",
   "execution_count": 1,
   "id": "24b1af57",
   "metadata": {},
   "outputs": [],
   "source": [
    "import warnings\n",
    "warnings.filterwarnings(\"ignore\")\n",
    "\n",
    "import sys\n",
    "from pathlib import Path\n",
    "from dotenv import load_dotenv\n",
    "import os\n",
    "\n",
    "sys.path.insert(0, Path.cwd().parent.parent.absolute().as_posix())\n",
    "\n",
    "import co2calculator as co2\n",
    "\n",
    "from co2calculator.parameters import *\n",
    "\n",
    "from co2calculator.api.energy import Energy\n",
    "from co2calculator.api.trip import Trip"
   ]
  },
  {
   "cell_type": "code",
   "execution_count": 2,
   "id": "03b975e9",
   "metadata": {},
   "outputs": [],
   "source": [
    "load_dotenv()\n",
    "\n",
    "# Load environment vars\n",
    "ORS_API_KEY = os.environ.get(\"ORS_API_KEY\")"
   ]
  },
  {
   "cell_type": "code",
   "execution_count": 3,
   "id": "f0be90cb",
   "metadata": {},
   "outputs": [],
   "source": [
    "#print(ORS_API_KEY)"
   ]
  },
  {
   "cell_type": "markdown",
   "id": "97d1609a",
   "metadata": {},
   "source": [
    "## Examples for the Energy class "
   ]
  },
  {
   "cell_type": "markdown",
   "id": "e67d7653",
   "metadata": {},
   "source": [
    "Let's take a look at some examples of the Energy class. It has two methods from_electricity and from_heating. First, you must initialize the Energy object. Depending on the fuel type the consumption can take on different units. <br>\n",
    "Then we can calculate the emissions for an electricity consumption of 100kWh in Germany."
   ]
  },
  {
   "cell_type": "code",
   "execution_count": 4,
   "id": "d7706b68",
   "metadata": {},
   "outputs": [
    {
     "name": "stdout",
     "output_type": "stream",
     "text": [
      "The result for electricity calculations is: EnergyEmissions(co2e=44.912, emission_factor=0.44912, emission_parameters=ElectricityEmissionParameters(category=<EmissionCategory.ELECTRICITY: 'electricity'>, fuel_type=<ElectricityFuel.PRODUCTION_FUEL_MIX: 'production fuel mix'>, country_code='DE', own_share=1.0), consumption=100, unit='kWh')\n",
      "\n"
     ]
    }
   ],
   "source": [
    "# Initialize Energy object \n",
    "energy=Energy()\n",
    "\n",
    "# calculate emissions for electricity \n",
    "electricity_result=energy.from_electricity(consumption=100, country_code=\"DE\").calculate_co2e()\n",
    "\n",
    "print(f\"The result for electricity calculations is: {electricity_result}\\n\")"
   ]
  },
  {
   "cell_type": "markdown",
   "id": "ad248385",
   "metadata": {},
   "source": [
    "You can use the same Energy class object to calculate the heating emissions. The default fuel type is gas. Now you only need to set in_kwh to True. Otherwise, you must specify a fuel type."
   ]
  },
  {
   "cell_type": "code",
   "execution_count": 5,
   "id": "68178b35",
   "metadata": {},
   "outputs": [
    {
     "name": "stdout",
     "output_type": "stream",
     "text": [
      "The emissions for the heating calculations with 100 kWh of gas are:EnergyEmissions(co2e=18.0, emission_factor=0.18, emission_parameters=HeatingEmissionParameters(category=<EmissionCategory.HEATING: 'heating'>, fuel_type=<HeatingFuel.GAS: 'gas'>, country_code='global', own_share=1.0), consumption=100, unit='kWh')\n"
     ]
    }
   ],
   "source": [
    "# calculate emissions for heating \n",
    "heating_result=energy.from_heating(consumption=100, in_kwh=True).calculate_co2e()\n",
    "\n",
    "print(f\"The emissions for the heating calculations with 100 kWh of gas are:{heating_result}\")"
   ]
  },
  {
   "cell_type": "markdown",
   "id": "d9ba9802",
   "metadata": {},
   "source": [
    "If you want to know the respectively unit of each fuel type you can use the method get_options()."
   ]
  },
  {
   "cell_type": "code",
   "execution_count": 6,
   "id": "fb7a98e4",
   "metadata": {},
   "outputs": [
    {
     "name": "stdout",
     "output_type": "stream",
     "text": [
      "The options for heating are:      fuel_type unit\n",
      "0           oil    l\n",
      "1    liquid gas   kg\n",
      "2          coal   kg\n",
      "3  wood pellets   kg\n",
      "4    wood chips   kg\n",
      "5           gas  m^3\n",
      "The emissions for the heating calculations with 100 liter of oil are:EnergyEmissions(co2e=286.20000000000005, emission_factor=0.27, emission_parameters=HeatingEmissionParameters(category=<EmissionCategory.HEATING: 'heating'>, fuel_type=<HeatingFuel.OIL: 'oil'>, country_code='global', own_share=1.0), consumption=100, unit='l')\n"
     ]
    }
   ],
   "source": [
    "# get options for heating\n",
    "heating_options=energy.from_heating(consumption=100, fuel_type='oil').get_options()\n",
    "\n",
    "print(f\"The options for heating are:{heating_options}\")\n",
    "\n",
    "# calculate emissions of oil\n",
    "heating_oil=energy.from_heating(consumption=100, fuel_type='oil').calculate_co2e()\n",
    "\n",
    "print(f\"The emissions for the heating calculations with 100 liter of oil are:{heating_oil}\")"
   ]
  },
  {
   "cell_type": "markdown",
   "id": "17d31bbf",
   "metadata": {},
   "source": [
    "The user can also provide further information, e.g. the fuel type or how large their share of the energy consumed is. Let's assume you want to calculate the emissions for 100 kg of coal and you share your apartment with 4 other people."
   ]
  },
  {
   "cell_type": "code",
   "execution_count": 7,
   "id": "4d78d85b",
   "metadata": {},
   "outputs": [
    {
     "name": "stdout",
     "output_type": "stream",
     "text": [
      "EnergyEmissions(co2e=52.5, emission_factor=0.35, emission_parameters=HeatingEmissionParameters(category=<EmissionCategory.HEATING: 'heating'>, fuel_type=<HeatingFuel.COAL: 'coal'>, country_code='global', own_share=0.25), consumption=100, unit='kg')\n"
     ]
    }
   ],
   "source": [
    "# heating calculations with more user defined input\n",
    "heating_energy=Energy()\n",
    "\n",
    "heating_result3=heating_energy.from_heating(consumption=100, fuel_type=\"coal\", own_share=0.25).calculate_co2e()\n",
    "\n",
    "print(heating_result3)"
   ]
  },
  {
   "cell_type": "markdown",
   "id": "92ade56b",
   "metadata": {},
   "source": [
    "The same applies to electricity. Let's assume you use the normal production fuel mix and share your office with another person."
   ]
  },
  {
   "cell_type": "code",
   "execution_count": 8,
   "id": "366cc8ca",
   "metadata": {},
   "outputs": [
    {
     "name": "stdout",
     "output_type": "stream",
     "text": [
      "EnergyEmissions(co2e=22.456, emission_factor=0.44912, emission_parameters=ElectricityEmissionParameters(category=<EmissionCategory.ELECTRICITY: 'electricity'>, fuel_type=<ElectricityFuel.PRODUCTION_FUEL_MIX: 'production fuel mix'>, country_code='DE', own_share=0.5), consumption=100, unit='kWh')\n"
     ]
    }
   ],
   "source": [
    "# electricity calculations with user defined input\n",
    "electricity_energy=Energy()\n",
    "\n",
    "electricity_result2=electricity_energy.from_electricity(consumption=100, fuel_type=\"production fuel mix\", own_share=0.5, country_code=\"DE\").calculate_co2e()\n",
    "\n",
    "print(electricity_result2)"
   ]
  },
  {
   "cell_type": "markdown",
   "id": "bf9e16f1",
   "metadata": {},
   "source": [
    "## Examples for the Trip class \n",
    "You have two options for calculating the emissions for the Trip class. Either you specify the distance in kilometers when initializing the Trip class object, or you define the start and destination of your trip.\n",
    "### Trip calculations with a given distance\n",
    "Let's assume you want to make a long journey of 5000 km and want to know which type of transportation causes the lowest emissions."
   ]
  },
  {
   "cell_type": "code",
   "execution_count": 9,
   "id": "edd45476",
   "metadata": {},
   "outputs": [],
   "source": [
    "# Initiate Trip object\n",
    "trip=Trip(distance=5000)"
   ]
  },
  {
   "cell_type": "code",
   "execution_count": 10,
   "id": "2fd8ebac",
   "metadata": {},
   "outputs": [
    {
     "name": "stdout",
     "output_type": "stream",
     "text": [
      "TransportEmissions(co2e=34.0, emission_factor=0.0068, emission_parameters=TrainEmissionParameters(category=<EmissionCategory.TRANSPORT: 'transport'>, subcategory=<TransportationMode.TRAIN: 'train'>, vehicle_range=<BusTrainRange.LONG_DISTANCE: 'long-distance'>, country_code='global'), distance=5000, start=None, start_coords=None, destination=None, destination_coords=None)\n"
     ]
    }
   ],
   "source": [
    "# trip by train\n",
    "train_trip=trip.by_train().calculate_co2e()\n",
    "print(train_trip)"
   ]
  },
  {
   "cell_type": "markdown",
   "id": "8fb38786",
   "metadata": {},
   "source": [
    "For your plane trip you also want to compare the emissions when flying first class versus economy class."
   ]
  },
  {
   "cell_type": "code",
   "execution_count": 11,
   "id": "a1f99434",
   "metadata": {},
   "outputs": [
    {
     "name": "stdout",
     "output_type": "stream",
     "text": [
      "TransportEmissions(co2e=3015.5, emission_factor=0.6031, emission_parameters=PlaneEmissionParameters(category=<EmissionCategory.TRANSPORT: 'transport'>, subcategory=<TransportationMode.PLANE: 'plane'>, seating=<FlightClass.FIRST: 'first_class'>, vehicle_range=<FlightRange.LONG_HAUL: 'long-haul'>), distance=5000, start=None, start_coords=None, destination=None, destination_coords=None)\n"
     ]
    }
   ],
   "source": [
    "# first_class trip by plane\n",
    "plane_first_class=trip.by_plane(seating=\"first_class\").calculate_co2e()\n",
    "\n",
    "print(plane_first_class)"
   ]
  },
  {
   "cell_type": "code",
   "execution_count": 12,
   "id": "6ef5e857",
   "metadata": {},
   "outputs": [
    {
     "name": "stdout",
     "output_type": "stream",
     "text": [
      "TransportEmissions(co2e=947.5, emission_factor=0.1895, emission_parameters=PlaneEmissionParameters(category=<EmissionCategory.TRANSPORT: 'transport'>, subcategory=<TransportationMode.PLANE: 'plane'>, seating=<FlightClass.ECONOMY: 'economy_class'>, vehicle_range=<FlightRange.LONG_HAUL: 'long-haul'>), distance=5000, start=None, start_coords=None, destination=None, destination_coords=None)\n"
     ]
    }
   ],
   "source": [
    "# economy_class trip by plane\n",
    "plane_economy_class=trip.by_plane(seating=\"economy_class\").calculate_co2e()\n",
    "\n",
    "print(plane_economy_class)"
   ]
  },
  {
   "cell_type": "markdown",
   "id": "63f2a800",
   "metadata": {},
   "source": [
    "Your last option is to go on your big trip in an electric car, and you travel with two of your colleagues in a large car."
   ]
  },
  {
   "cell_type": "code",
   "execution_count": 13,
   "id": "bfd12979",
   "metadata": {},
   "outputs": [
    {
     "name": "stdout",
     "output_type": "stream",
     "text": [
      "TransportEmissions(co2e=151.66666666666666, emission_factor=0.091, emission_parameters=CarEmissionParameters(category=<EmissionCategory.TRANSPORT: 'transport'>, subcategory=<TransportationMode.CAR: 'car'>, fuel_type=<CarFuel.ELECTRIC: 'electric'>, size=<Size.LARGE: 'large'>, passengers=3), distance=5000, start=None, start_coords=None, destination=None, destination_coords=None)\n"
     ]
    }
   ],
   "source": [
    "# trip with electric car\n",
    "car=trip.by_car(fuel_type=\"electric\", size=\"large\", passengers=3).calculate_co2e()\n",
    "print(car)"
   ]
  },
  {
   "cell_type": "markdown",
   "id": "786de7dc",
   "metadata": {},
   "source": [
    "### Provide your own emission factor\n",
    "If you know the emission factor for example of your car, you can use the method by_custom() to calculate the emissions of your trip."
   ]
  },
  {
   "cell_type": "code",
   "execution_count": 14,
   "id": "3626b530",
   "metadata": {},
   "outputs": [
    {
     "name": "stdout",
     "output_type": "stream",
     "text": [
      "TransportEmissions(co2e=500.0, emission_factor=0.1, emission_parameters={'transportation_mode': None}, distance=5000, start=None, start_coords=None, destination=None, destination_coords=None)\n"
     ]
    }
   ],
   "source": [
    "custom_emission_factor = trip.by_custom(emission_factor=0.1).calculate_co2e()\n",
    "print(custom_emission_factor)"
   ]
  },
  {
   "cell_type": "markdown",
   "id": "d5bc61e7",
   "metadata": {},
   "source": [
    "### Trip calculations with input start and destination\n",
    "Enter the start and destination either as a dictionary or as a string."
   ]
  },
  {
   "cell_type": "code",
   "execution_count": 15,
   "id": "f77971e1",
   "metadata": {},
   "outputs": [],
   "source": [
    "# provide start and destination as dictionary\n",
    "start = {\"locality\": \"Heidelberg\", \"country\": \"Germany\", \"address_type\": \"address\",}\n",
    "destination = {\"locality\": \"Berlin\", \"country\": \"Germany\", \"address_type\": \"address\",}\n",
    "\n",
    "# initiate the Trip object with given start and destination\n",
    "trip = Trip(start=start, destination=destination)"
   ]
  },
  {
   "cell_type": "markdown",
   "id": "1e654888",
   "metadata": {},
   "source": [
    "Calculate the emissions of your car journey with calculate_co2e(), this also returns the locations used and all parameters used."
   ]
  },
  {
   "cell_type": "code",
   "execution_count": 16,
   "id": "78f8d30f",
   "metadata": {},
   "outputs": [
    {
     "name": "stdout",
     "output_type": "stream",
     "text": [
      "4 location(s) found. Using this result: Heidelberg, Germany (data type: locality)\n",
      "Coords:  [8.769869, 49.37625]\n",
      "7 location(s) found. Using this result: Berlin, Germany (data type: locality)\n",
      "Coords:  [13.407032, 52.524932]\n",
      "TransportEmissions(co2e=119.48486048000001, emission_factor=0.1864, emission_parameters=CarEmissionParameters(category=<EmissionCategory.TRANSPORT: 'transport'>, subcategory=<TransportationMode.CAR: 'car'>, fuel_type=<CarFuel.AVERAGE: 'average'>, size=<Size.AVERAGE: 'average'>, passengers=1), distance=641.0132, start={'locality': 'Heidelberg', 'country': 'Germany'}, start_coords=[8.769869, 49.37625], destination={'locality': 'Berlin', 'country': 'Germany'}, destination_coords=[13.407032, 52.524932])\n"
     ]
    }
   ],
   "source": [
    "# calculate emissions of trip by car\n",
    "car_co2e = trip.by_car().calculate_co2e()\n",
    "print(car_co2e)"
   ]
  },
  {
   "cell_type": "markdown",
   "id": "a1de9490",
   "metadata": {},
   "source": [
    "You can either use the same trip object to calculate emissions for other modes of transport. In this case, the same coordinates are used. Or you can initialize a new trip object with the appropriate address_type, in which case the actual address of the station, for example, is used."
   ]
  },
  {
   "cell_type": "code",
   "execution_count": 17,
   "id": "ecc1bada",
   "metadata": {},
   "outputs": [
    {
     "name": "stdout",
     "output_type": "stream",
     "text": [
      "4 location(s) found. Using this result: Heidelberg, Germany (data type: locality)\n",
      "Coords:  [8.769869, 49.37625]\n",
      "7 location(s) found. Using this result: Berlin, Germany (data type: locality)\n",
      "Coords:  [13.407032, 52.524932]\n",
      "TransportEmissions(co2e=3.8956776670447653, emission_factor=0.0068, emission_parameters=TrainEmissionParameters(category=<EmissionCategory.TRANSPORT: 'transport'>, subcategory=<TransportationMode.TRAIN: 'train'>, vehicle_range=<BusTrainRange.LONG_DISTANCE: 'long-distance'>, country_code='global'), distance=572.8937745654067, start={'locality': 'Heidelberg', 'country': 'Germany'}, start_coords=[8.769869, 49.37625], destination={'locality': 'Berlin', 'country': 'Germany'}, destination_coords=[13.407032, 52.524932])\n"
     ]
    }
   ],
   "source": [
    "# train trip with the same Trip object\n",
    "train_co2e = trip.by_train().calculate_co2e()\n",
    "print(train_co2e)"
   ]
  },
  {
   "cell_type": "code",
   "execution_count": 18,
   "id": "792332f9",
   "metadata": {},
   "outputs": [
    {
     "name": "stdout",
     "output_type": "stream",
     "text": [
      "4 location(s) found. Using this result: Heidelberg, Germany (data type: locality)\n",
      "Coords:  [8.769869, 49.37625]\n",
      "7 location(s) found. Using this result: Berlin, Germany (data type: locality)\n",
      "Coords:  [13.407032, 52.524932]\n",
      "TransportEmissions(co2e=182.71374403439816, emission_factor=0.3192, emission_parameters=PlaneEmissionParameters(category=<EmissionCategory.TRANSPORT: 'transport'>, subcategory=<TransportationMode.PLANE: 'plane'>, seating=<FlightClass.AVERAGE: 'average'>, vehicle_range=<FlightRange.SHORT_HAUL: 'short-haul'>), distance=572.4114788045056, start={'locality': 'Heidelberg', 'country': 'Germany'}, start_coords=[8.769869, 49.37625], destination={'locality': 'Berlin', 'country': 'Germany'}, destination_coords=[13.407032, 52.524932])\n"
     ]
    }
   ],
   "source": [
    "# plane trip with the same Trip object\n",
    "plane_co2e = trip.by_plane().calculate_co2e()\n",
    "print(plane_co2e)"
   ]
  },
  {
   "cell_type": "markdown",
   "id": "83f44c52",
   "metadata": {},
   "source": [
    "If you want to use the exact location of the trainstation or airport, your start and destination input could look like this."
   ]
  },
  {
   "cell_type": "code",
   "execution_count": 19,
   "id": "671923c1",
   "metadata": {},
   "outputs": [
    {
     "name": "stdout",
     "output_type": "stream",
     "text": [
      "TransportEmissions(co2e=3.9030595999198807, emission_factor=0.0068, emission_parameters=TrainEmissionParameters(category=<EmissionCategory.TRANSPORT: 'transport'>, subcategory=<TransportationMode.TRAIN: 'train'>, vehicle_range=<BusTrainRange.LONG_DISTANCE: 'long-distance'>, country_code='global'), distance=573.9793529293943, start={'station_name': 'Heidelberg Hbf', 'country': 'DE'}, start_coords=(8.675741, 49.403779), destination={'station_name': 'Berlin Hbf', 'country': 'DE'}, destination_coords=(13.386987, 52.520501))\n"
     ]
    }
   ],
   "source": [
    "# give start and destination as dictionary for train\n",
    "start = {\"station_name\": \"Heidelberg Hbf\", \"country\": \"DE\", \"address_type\": \"trainstation\",}\n",
    "destination = {\"station_name\": \"Berlin Hbf\", \"country\": \"DE\", \"address_type\": \"trainstation\",}\n",
    "\n",
    "# initiate train Trip object with given start and destination\n",
    "train_trip = Trip(start=start, destination=destination)\n",
    "\n",
    "# calculate emissions of trip by train\n",
    "train_co2e = train_trip.by_train().calculate_co2e()\n",
    "print(train_co2e)"
   ]
  },
  {
   "cell_type": "markdown",
   "id": "3f527ed5",
   "metadata": {},
   "source": [
    "Travelling by plane your code could look like this. "
   ]
  },
  {
   "cell_type": "code",
   "execution_count": 20,
   "id": "8e24922d",
   "metadata": {
    "scrolled": true
   },
   "outputs": [
    {
     "name": "stdout",
     "output_type": "stream",
     "text": [
      "TransportEmissions(co2e=167.82950702986088, emission_factor=0.3192, emission_parameters=PlaneEmissionParameters(category=<EmissionCategory.TRANSPORT: 'transport'>, subcategory=<TransportationMode.PLANE: 'plane'>, seating=<FlightClass.AVERAGE: 'average'>, vehicle_range=<FlightRange.SHORT_HAUL: 'short-haul'>), distance=525.7816636273838, start={'IATA': 'FRA'}, start_coords=[8.561096, 50.030241], destination={'IATA': 'BER'}, destination_coords=[13.500672, 52.362247])\n"
     ]
    }
   ],
   "source": [
    "# start and destination for a trip by plane\n",
    "start = {\"IATA\": \"FRA\", \"address_type\": \"airport\",}\n",
    "destination = {\"IATA\": \"BER\", \"address_type\": \"airport\",}\n",
    "\n",
    "# initiate plane Trip object with given start and destination\n",
    "plane_trip = Trip(start=start, destination=destination)\n",
    "\n",
    "# calculate emissions for trip by plane\n",
    "plane_co2e = plane_trip.by_plane().calculate_co2e()\n",
    "print(plane_co2e)"
   ]
  }
 ],
 "metadata": {
  "kernelspec": {
   "display_name": "Python 3 (ipykernel)",
   "language": "python",
   "name": "python3"
  },
  "language_info": {
   "codemirror_mode": {
    "name": "ipython",
    "version": 3
   },
   "file_extension": ".py",
   "mimetype": "text/x-python",
   "name": "python",
   "nbconvert_exporter": "python",
   "pygments_lexer": "ipython3",
   "version": "3.11.5"
  }
 },
 "nbformat": 4,
 "nbformat_minor": 5
}
