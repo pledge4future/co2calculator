{
 "cells": [
  {
   "cell_type": "markdown",
   "id": "fd406816",
   "metadata": {},
   "source": [
    "# Exemplary use cases for the Co2calculator\n",
    "In this Jupyter notebook you will find some helpful examples of how to use the co2calculator."
   ]
  },
  {
   "cell_type": "code",
   "execution_count": 1,
   "id": "24b1af57",
   "metadata": {},
   "outputs": [],
   "source": [
    "import warnings\n",
    "warnings.filterwarnings(\"ignore\")\n",
    "\n",
    "import sys\n",
    "from pathlib import Path\n",
    "from dotenv import load_dotenv\n",
    "import os\n",
    "\n",
    "sys.path.insert(0, Path.cwd().parent.parent.absolute().as_posix())\n",
    "\n",
    "import co2calculator as co2\n",
    "\n",
    "from co2calculator.parameters import *\n",
    "\n",
    "from co2calculator.api.energy import Energy\n",
    "from co2calculator.api.trip import Trip"
   ]
  },
  {
   "cell_type": "code",
   "execution_count": 2,
   "id": "03b975e9",
   "metadata": {},
   "outputs": [],
   "source": [
    "load_dotenv()\n",
    "\n",
    "# Load environment vars\n",
    "ORS_API_KEY = os.environ.get(\"ORS_API_KEY\")"
   ]
  },
  {
   "cell_type": "code",
   "execution_count": 3,
   "id": "f0be90cb",
   "metadata": {},
   "outputs": [],
   "source": [
    "#print(ORS_API_KEY)"
   ]
  },
  {
   "cell_type": "markdown",
   "id": "97d1609a",
   "metadata": {},
   "source": [
    "## Examples for the Energy class "
   ]
  },
  {
   "cell_type": "markdown",
   "id": "e67d7653",
   "metadata": {},
   "source": [
    "Let's take a look at some examples of the Energy class. It has two methods from_electricity and from_heating. First, you must initialize the Energy object with your consumption. Depending on the fuel type, it can take on different units. <br>\n",
    "Then we can calculate the emissions for an electricity consumption of 100kWh in Germany."
   ]
  },
  {
   "cell_type": "code",
   "execution_count": 4,
   "id": "d7706b68",
   "metadata": {},
   "outputs": [
    {
     "name": "stdout",
     "output_type": "stream",
     "text": [
      "The result for electricity calculations is: EnergyEmissions(co2e=44.912, emission_factor=0.44912, emission_parameters=ElectricityEmissionParameters(category=<EmissionCategory.ELECTRICITY: 'electricity'>, fuel_type=<ElectricityFuel.PRODUCTION_FUEL_MIX: 'production fuel mix'>, country_code='DE', own_share=1.0), consumption=100)\n",
      "\n"
     ]
    }
   ],
   "source": [
    "# Initialize Energy object \n",
    "energy=Energy(consumption=100)\n",
    "\n",
    "# calculate emissions for electricity \n",
    "electricity_result=energy.from_electricity(country_code=\"DE\").calculate_co2e()\n",
    "\n",
    "print(f\"The result for electricity calculations is: {electricity_result}\\n\")"
   ]
  },
  {
   "cell_type": "markdown",
   "id": "ad248385",
   "metadata": {},
   "source": [
    "You can use the same Energy class object to calculate the heating emissions. The default fuel type is gas. Now you only need to set in_kwh to True. Otherwise, you must specify a fuel type."
   ]
  },
  {
   "cell_type": "code",
   "execution_count": 5,
   "id": "68178b35",
   "metadata": {},
   "outputs": [
    {
     "ename": "TypeError",
     "evalue": "Energy.from_heating() got an unexpected keyword argument 'in_kwh'",
     "output_type": "error",
     "traceback": [
      "\u001b[0;31m---------------------------------------------------------------------------\u001b[0m",
      "\u001b[0;31mTypeError\u001b[0m                                 Traceback (most recent call last)",
      "Cell \u001b[0;32mIn[5], line 2\u001b[0m\n\u001b[1;32m      1\u001b[0m \u001b[38;5;66;03m# calculate emissions for heating \u001b[39;00m\n\u001b[0;32m----> 2\u001b[0m heating_result\u001b[38;5;241m=\u001b[39menergy\u001b[38;5;241m.\u001b[39mfrom_heating(in_kwh\u001b[38;5;241m=\u001b[39m\u001b[38;5;28;01mTrue\u001b[39;00m)\u001b[38;5;241m.\u001b[39mcalculate_co2e()\n\u001b[1;32m      4\u001b[0m \u001b[38;5;28mprint\u001b[39m(\u001b[38;5;124mf\u001b[39m\u001b[38;5;124m\"\u001b[39m\u001b[38;5;124mThe emissions for the heating calculations with 100 kWh of gas are:\u001b[39m\u001b[38;5;132;01m{\u001b[39;00mheating_result\u001b[38;5;132;01m}\u001b[39;00m\u001b[38;5;124m\"\u001b[39m)\n",
      "\u001b[0;31mTypeError\u001b[0m: Energy.from_heating() got an unexpected keyword argument 'in_kwh'"
     ]
    }
   ],
   "source": [
    "# calculate emissions for heating \n",
    "heating_result=energy.from_heating(in_kwh=True).calculate_co2e()\n",
    "\n",
    "print(f\"The emissions for the heating calculations with 100 kWh of gas are:{heating_result}\")"
   ]
  },
  {
   "cell_type": "markdown",
   "id": "d9ba9802",
   "metadata": {},
   "source": [
    "If you want to know the respectively unit of each fuel type you can use the method get_options()."
   ]
  },
  {
   "cell_type": "code",
   "execution_count": null,
   "id": "fb7a98e4",
   "metadata": {},
   "outputs": [],
   "source": [
    "# Initialize Energy object \n",
    "energy=Energy(consumption=100, fuel_type='oil')\n",
    "\n",
    "# get options of heating\n",
    "heating_options=energy.from_heating().get_options()\n",
    "\n",
    "print(f\"The options for heating are:{heating_options}\")\n",
    "\n",
    "# calculate emissions of oil\n",
    "heating_oil=energy.from_heating().calculate_co2e()\n",
    "\n",
    "print(f\"The emissions for the heating calculations with 100 liter of oil are:{heating_oil}\")"
   ]
  },
  {
   "cell_type": "markdown",
   "id": "92ade56b",
   "metadata": {},
   "source": [
    "The user can also provide further information, e.g. the fuel type or how large their share of the energy consumed is.\n",
    "Let's assume you use the normal production fuel mix and share your office with another person."
   ]
  },
  {
   "cell_type": "code",
   "execution_count": null,
   "id": "366cc8ca",
   "metadata": {},
   "outputs": [],
   "source": [
    "# electricity calculations with user defined input\n",
    "electricity_energy=Energy(consumption=100, fuel_type=\"production fuel mix\", own_share=0.5)\n",
    "\n",
    "electricity_result2=electricity_energy.from_electricity(country_code=\"DE\").calculate_co2e()\n",
    "\n",
    "print(electricity_result2)"
   ]
  },
  {
   "cell_type": "markdown",
   "id": "17d31bbf",
   "metadata": {},
   "source": [
    "The same applies to heating. Let's assume you want to calculate the emissions for 100 kg of coal and you share your apartment with 4 other people."
   ]
  },
  {
   "cell_type": "code",
   "execution_count": null,
   "id": "4d78d85b",
   "metadata": {},
   "outputs": [],
   "source": [
    "# heating calculations with more user defined input\n",
    "heating_energy=Energy(consumption=100, fuel_type=\"coal\", own_share=0.25)\n",
    "\n",
    "heating_result3=heating_energy.from_heating().calculate_co2e()\n",
    "\n",
    "print(heating_result3)"
   ]
  },
  {
   "cell_type": "markdown",
   "id": "bf9e16f1",
   "metadata": {},
   "source": [
    "## Examples for the Trip class \n",
    "You have two options for calculating the emissions for the Trip class. Either you specify the distance in kilometers when initializing the Trip class object, or you define the start and destination of your trip.\n",
    "### Trip calculations with a given distance\n",
    "Let's assume you want to make a long journey of 5000 km and want to know which type of transportation causes the lowest emissions."
   ]
  },
  {
   "cell_type": "code",
   "execution_count": null,
   "id": "edd45476",
   "metadata": {},
   "outputs": [],
   "source": [
    "# Initiate Trip object\n",
    "trip=Trip(distance=5000)"
   ]
  },
  {
   "cell_type": "code",
   "execution_count": null,
   "id": "2fd8ebac",
   "metadata": {},
   "outputs": [],
   "source": [
    "# trip by train\n",
    "train_trip=trip.by_train().calculate_co2e()\n",
    "print(train_trip)"
   ]
  },
  {
   "cell_type": "markdown",
   "id": "8fb38786",
   "metadata": {},
   "source": [
    "For your plane trip you also want to compare the emissions when flying first class versus economy class."
   ]
  },
  {
   "cell_type": "code",
   "execution_count": null,
   "id": "a1f99434",
   "metadata": {},
   "outputs": [],
   "source": [
    "# first_class trip by plane\n",
    "plane_first_class=trip.by_plane(seating=\"first_class\").calculate_co2e()\n",
    "\n",
    "print(plane_first_class)"
   ]
  },
  {
   "cell_type": "code",
   "execution_count": null,
   "id": "6ef5e857",
   "metadata": {},
   "outputs": [],
   "source": [
    "# economy_class trip by plane\n",
    "plane_economy_class=trip.by_plane(seating=\"economy_class\").calculate_co2e()\n",
    "\n",
    "print(plane_economy_class)"
   ]
  },
  {
   "cell_type": "markdown",
   "id": "63f2a800",
   "metadata": {},
   "source": [
    "Your last option is to take your big trip in an electric car, and you're traveling with two of your colleagues in a large car."
   ]
  },
  {
   "cell_type": "code",
   "execution_count": null,
   "id": "bfd12979",
   "metadata": {},
   "outputs": [],
   "source": [
    "# trip with electric car\n",
    "car=trip.by_car(fuel_type=\"electric\", size=\"large\", passengers=3).calculate_co2e()\n",
    "print(car)"
   ]
  },
  {
   "cell_type": "markdown",
   "id": "786de7dc",
   "metadata": {},
   "source": [
    "### Provide your own emission factor\n",
    "If you know for example the emission factor of your car, you can use the method by_custom() to calculate the emissions of your trip."
   ]
  },
  {
   "cell_type": "code",
   "execution_count": null,
   "id": "3626b530",
   "metadata": {},
   "outputs": [],
   "source": [
    "custom_emission_factor = trip.by_custom(emission_factor=0.1).calculate_co2e()\n",
    "print(custom_emission_factor)"
   ]
  },
  {
   "cell_type": "markdown",
   "id": "d5bc61e7",
   "metadata": {},
   "source": [
    "### Trip calculations with input start and destination\n",
    "Enter the start and destination either as a dictionary or as a string."
   ]
  },
  {
   "cell_type": "code",
   "execution_count": 15,
   "id": "f77971e1",
   "metadata": {},
   "outputs": [],
   "source": [
    "# provide start and destination as dictionary\n",
    "start = {\"locality\": \"Heidelberg\", \"country\": \"Germany\", \"address_type\": \"address\",}\n",
    "destination = {\"locality\": \"Berlin\", \"country\": \"Germany\", \"address_type\": \"address\",}\n",
    "\n",
    "# initiate car Trip object with given start and destination\n",
    "car_trip = Trip(start=start, destination=destination)"
   ]
  },
  {
   "cell_type": "markdown",
   "id": "9512f1d0",
   "metadata": {},
   "source": [
    "If you only want to know the distance, you can use the calculate_distance() method."
   ]
  },
  {
   "cell_type": "code",
   "execution_count": 17,
   "id": "032eaad3",
   "metadata": {},
   "outputs": [
    {
     "name": "stdout",
     "output_type": "stream",
     "text": [
      "4 location(s) found. Using this result: Heidelberg, Germany (data type: locality)\n",
      "Coords:  [8.769869, 49.37625]\n",
      "7 location(s) found. Using this result: Berlin, Germany (data type: locality)\n",
      "Coords:  [13.407032, 52.524932]\n"
     ]
    }
   ],
   "source": [
    "# calculate distance of trip by car --> remove?\n",
    "car_distance = car_trip.by_car().calculate_distance()"
   ]
  },
  {
   "cell_type": "markdown",
   "id": "1e654888",
   "metadata": {},
   "source": [
    "Calculate the emissions of your car journey with calculate_co2e(), this also returns the locations used and all parameters used."
   ]
  },
  {
   "cell_type": "code",
   "execution_count": 18,
   "id": "78f8d30f",
   "metadata": {},
   "outputs": [
    {
     "name": "stdout",
     "output_type": "stream",
     "text": [
      "No address type provided: ('address', 'trainstation' ,'airport'), assume address\n",
      "No address type provided: ('address', 'trainstation' ,'airport'), assume address\n",
      "4 location(s) found. Using this result: Heidelberg, Germany (data type: locality)\n",
      "Coords:  [8.769869, 49.37625]\n",
      "7 location(s) found. Using this result: Berlin, Germany (data type: locality)\n",
      "Coords:  [13.407032, 52.524932]\n",
      "TransportEmissions(co2e=119.50935344, emission_factor=0.1864, emission_parameters=CarEmissionParameters(category=<EmissionCategory.TRANSPORT: 'transport'>, subcategory=<TransportationMode.CAR: 'car'>, fuel_type=<CarFuel.AVERAGE: 'average'>, size=<Size.AVERAGE: 'average'>, passengers=1), distance=641.1446)\n"
     ]
    }
   ],
   "source": [
    "# calculate emissions of trip by car\n",
    "car_co2e = car_trip.by_car().calculate_co2e()\n",
    "print(car_co2e)"
   ]
  },
  {
   "cell_type": "markdown",
   "id": "83f44c52",
   "metadata": {},
   "source": [
    "If you want to travel by train, your start and destination could look like this."
   ]
  },
  {
   "cell_type": "code",
   "execution_count": 19,
   "id": "671923c1",
   "metadata": {},
   "outputs": [
    {
     "name": "stdout",
     "output_type": "stream",
     "text": [
      "TransportEmissions(co2e=5.096385196187217, emission_factor=0.0068, emission_parameters=TrainEmissionParameters(category=<EmissionCategory.TRANSPORT: 'transport'>, subcategory=<TransportationMode.TRAIN: 'train'>, vehicle_range=<BusTrainRange.LONG_DISTANCE: 'long-distance'>, country_code='global'), distance=749.4684112040026)\n"
     ]
    }
   ],
   "source": [
    "# give start and destination as dictionary for train\n",
    "start = {\"station_name\": \"Heidelberg Hbf\", \"country\": \"DE\", \"address_type\": \"trainstation\",}\n",
    "destination = {\"station_name\": \"Berlin Hbf\", \"country\": \"DE\", \"address_type\": \"trainstation\",}\n",
    "\n",
    "# initiate train Trip object with given start and destination\n",
    "train_trip = Trip(start=start, destination=destination)\n",
    "\n",
    "# calculate emissions of trip by train\n",
    "train_co2e = train_trip.by_train().calculate_co2e()\n",
    "print(train_co2e)"
   ]
  },
  {
   "cell_type": "code",
   "execution_count": 22,
   "id": "7c1074f4",
   "metadata": {},
   "outputs": [
    {
     "name": "stdout",
     "output_type": "stream",
     "text": [
      "No address type provided: ('address', 'trainstation' ,'airport'), assume address\n",
      "No address type provided: ('address', 'trainstation' ,'airport'), assume address\n",
      "4 location(s) found. Using this result: Heidelberg, Germany (data type: locality)\n",
      "Coords:  [8.769869, 49.37625]\n",
      "7 location(s) found. Using this result: Berlin, Germany (data type: locality)\n",
      "Coords:  [13.407032, 52.524932]\n",
      "TransportEmissions(co2e=182.71374403439816, emission_factor=0.3192, emission_parameters=PlaneEmissionParameters(category=<EmissionCategory.TRANSPORT: 'transport'>, subcategory=<TransportationMode.PLANE: 'plane'>, seating=<FlightClass.AVERAGE: 'average'>, vehicle_range=<FlightRange.SHORT_HAUL: 'short-haul'>), distance=572.4114788045056)\n"
     ]
    }
   ],
   "source": [
    "plane= car_trip.by_plane().calculate_co2e()\n",
    "print(plane)"
   ]
  },
  {
   "cell_type": "markdown",
   "id": "3f527ed5",
   "metadata": {},
   "source": [
    "Travelling by plane your code could look like this. "
   ]
  },
  {
   "cell_type": "code",
   "execution_count": 24,
   "id": "8e24922d",
   "metadata": {},
   "outputs": [
    {
     "name": "stdout",
     "output_type": "stream",
     "text": [
      "TransportEmissions(co2e=167.82950702986088, emission_factor=0.3192, emission_parameters=PlaneEmissionParameters(category=<EmissionCategory.TRANSPORT: 'transport'>, subcategory=<TransportationMode.PLANE: 'plane'>, seating=<FlightClass.AVERAGE: 'average'>, vehicle_range=<FlightRange.SHORT_HAUL: 'short-haul'>), distance=525.7816636273838)\n"
     ]
    }
   ],
   "source": [
    "# start and destination for a trip by plane\n",
    "start = {\"IATA\": \"FRA\", \"address_type\": \"airport\",}\n",
    "destination = {\"IATA\": \"BER\", \"address_type\": \"airport\",}\n",
    "\n",
    "# initiate plane Trip object with given start and destination\n",
    "plane_trip = Trip(start=start, destination=destination)\n",
    "\n",
    "# calculate emissions for trip by plane\n",
    "plane_co2e = plane_trip.by_plane().calculate_co2e()\n",
    "print(plane_co2e)"
   ]
  },
  {
   "cell_type": "markdown",
   "id": "138dcdc2",
   "metadata": {},
   "source": [
    "Lets take the ferry."
   ]
  },
  {
   "cell_type": "code",
   "execution_count": 26,
   "id": "ebadd98f",
   "metadata": {},
   "outputs": [
    {
     "name": "stdout",
     "output_type": "stream",
     "text": [
      "4 location(s) found. Using this result: Hamburg, Germany (data type: locality)\n",
      "Coords:  [10.007046, 53.576158]\n",
      "2 location(s) found. Using this result: Cuxhaven, Germany (data type: locality)\n",
      "Coords:  [8.693474, 53.859527]\n",
      "TransportEmissions(co2e=40.20196912, emission_factor=0.1864, emission_parameters=CarEmissionParameters(category=<EmissionCategory.TRANSPORT: 'transport'>, subcategory=<TransportationMode.CAR: 'car'>, fuel_type=<CarFuel.AVERAGE: 'average'>, size=<Size.AVERAGE: 'average'>, passengers=1), distance=215.67579999999998)\n"
     ]
    }
   ],
   "source": [
    "# vergleich für ferry distanz\n",
    "\n",
    "\n",
    "# provide start and destination as dictionary\n",
    "start = {\"locality\": \"Hamburg\", \"country\": \"Germany\", \"address_type\": \"address\",}\n",
    "destination = {\"locality\": \"Cuxhaven\", \"country\": \"Germany\", \"address_type\": \"address\",}\n",
    "\n",
    "# initiate car Trip object with given start and destination\n",
    "car_trip = Trip(start=start, destination=destination)\n",
    "\n",
    "# calculate emissions of trip by car\n",
    "car_co2e = car_trip.by_car().calculate_co2e()\n",
    "print(car_co2e)"
   ]
  },
  {
   "cell_type": "code",
   "execution_count": 25,
   "id": "85cbd390",
   "metadata": {},
   "outputs": [
    {
     "name": "stdout",
     "output_type": "stream",
     "text": [
      "4 location(s) found. Using this result: Hamburg, Germany (data type: locality)\n",
      "Coords:  [10.007046, 53.576158]\n",
      "2 location(s) found. Using this result: Cuxhaven, Germany (data type: locality)\n",
      "Coords:  [8.693474, 53.859527]\n",
      "TransportEmissions(co2e=0.5411524139999999, emission_factor=0.11286, emission_parameters=FerryEmissionParameters(category=<EmissionCategory.TRANSPORT: 'transport'>, subcategory=<TransportationMode.FERRY: 'ferry'>, ferry_class=<FerryClass.AVERAGE: 'average'>), distance=4.794899999999999)\n"
     ]
    }
   ],
   "source": [
    "# provide start and destination\n",
    "start = {\"locality\": \"Hamburg\", \"country\": \"DE\", \"address_type\": \"address\",}\n",
    "destination = {\"locality\": \"Cuxhaven\", \"country\": \"DE\", \"address_type\": \"address\",}\n",
    "\n",
    "# initiate ferry Trip object with given start and destination\n",
    "ferry_trip = Trip(start=start, destination=destination)\n",
    "\n",
    "# calculate emissions for ferry trip\n",
    "ferry_co2e = ferry_trip.by_ferry().calculate_co2e()\n",
    "print(ferry_co2e)"
   ]
  }
 ],
 "metadata": {
  "kernelspec": {
   "display_name": "Python 3 (ipykernel)",
   "language": "python",
   "name": "python3"
  },
  "language_info": {
   "codemirror_mode": {
    "name": "ipython",
    "version": 3
   },
   "file_extension": ".py",
   "mimetype": "text/x-python",
   "name": "python",
   "nbconvert_exporter": "python",
   "pygments_lexer": "ipython3",
   "version": "3.11.5"
  }
 },
 "nbformat": 4,
 "nbformat_minor": 5
}
